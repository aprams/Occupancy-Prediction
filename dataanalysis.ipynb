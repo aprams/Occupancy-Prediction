{
 "cells": [
  {
   "cell_type": "code",
   "execution_count": 58,
   "metadata": {},
   "outputs": [
    {
     "name": "stdout",
     "output_type": "stream",
     "text": [
      "/Users/alexander.prams/hodschallenge\n"
     ]
    }
   ],
   "source": [
    "import itertools\n",
    "import numpy as np\n",
    "import pandas as pd\n",
    "import sys\n",
    "import os\n",
    "from datetime import timedelta\n",
    "\n",
    "print(os.getcwd())"
   ]
  },
  {
   "cell_type": "code",
   "execution_count": 59,
   "metadata": {},
   "outputs": [],
   "source": [
    "in_file = \"challenge/data/device_activations.csv\""
   ]
  },
  {
   "cell_type": "code",
   "execution_count": 149,
   "metadata": {},
   "outputs": [
    {
     "name": "stdout",
     "output_type": "stream",
     "text": [
      "<class 'str'>\n",
      "['device_1', 'device_2', 'device_3', 'device_4', 'device_5', 'device_6', 'device_7']\n",
      "<class 'pandas._libs.tslibs.timestamps.Timestamp'>\n",
      "2016-07-01 04:23:32\n",
      "2016-07-01 06:52:57\n",
      "2016-07-01 06:53:00\n"
     ]
    }
   ],
   "source": [
    "previous_readings = pd.read_csv(in_file)\n",
    "print(type(previous_readings['time'][0]))\n",
    "previous_readings['time'] = pd.to_datetime(previous_readings['time'])\n",
    "device_list = sorted(previous_readings['device'].unique())\n",
    "print(type(previous_readings['time'][0]))\n",
    "print(previous_readings.loc[0, :]['time'])\n",
    "print(previous_readings.loc[1, :]['time'])\n",
    "print(previous_readings.loc[2, :]['time'])"
   ]
  },
  {
   "cell_type": "code",
   "execution_count": 61,
   "metadata": {},
   "outputs": [
    {
     "name": "stdout",
     "output_type": "stream",
     "text": [
      "Number of data points:  9045\n"
     ]
    }
   ],
   "source": [
    "print(\"Number of data points: \", len(previous_readings))"
   ]
  },
  {
   "cell_type": "code",
   "execution_count": 105,
   "metadata": {},
   "outputs": [],
   "source": [
    "def date_time_same_hour(dt1, dt2):\n",
    "    same_until_hour = dt1.year == dt2.year and dt1.month == dt2.month and dt1.day == dt2.day and dt1.hour == dt2.hour\n",
    "    if same_until_hour:\n",
    "        return True\n",
    "    else:\n",
    "        return False\n"
   ]
  },
  {
   "cell_type": "code",
   "execution_count": 164,
   "metadata": {},
   "outputs": [
    {
     "name": "stdout",
     "output_type": "stream",
     "text": [
      "n_devices =  7\n",
      "DatetimeIndex(['2016-07-01 04:00:00', '2016-07-01 05:00:00',\n",
      "               '2016-07-01 06:00:00', '2016-07-01 07:00:00',\n",
      "               '2016-07-01 08:00:00', '2016-07-01 09:00:00',\n",
      "               '2016-07-01 10:00:00', '2016-07-01 11:00:00',\n",
      "               '2016-07-01 12:00:00', '2016-07-01 13:00:00',\n",
      "               ...\n",
      "               '2016-08-31 08:00:00', '2016-08-31 09:00:00',\n",
      "               '2016-08-31 10:00:00', '2016-08-31 11:00:00',\n",
      "               '2016-08-31 12:00:00', '2016-08-31 13:00:00',\n",
      "               '2016-08-31 14:00:00', '2016-08-31 15:00:00',\n",
      "               '2016-08-31 16:00:00', '2016-08-31 17:00:00'],\n",
      "              dtype='datetime64[ns]', length=1478, freq='H')\n"
     ]
    },
    {
     "ename": "TypeError",
     "evalue": "invalid type promotion",
     "output_type": "error",
     "traceback": [
      "\u001b[0;31m---------------------------------------------------------------------------\u001b[0m",
      "\u001b[0;31mTypeError\u001b[0m                                 Traceback (most recent call last)",
      "\u001b[0;32m<ipython-input-164-8f473eab7364>\u001b[0m in \u001b[0;36m<module>\u001b[0;34m\u001b[0m\n\u001b[1;32m     25\u001b[0m     \u001b[0;32mreturn\u001b[0m \u001b[0mfeatures\u001b[0m\u001b[0;34m\u001b[0m\u001b[0m\n\u001b[1;32m     26\u001b[0m \u001b[0;31m#print(\"Unique hours: \", len(preallocate_features(previous_readings)))\u001b[0m\u001b[0;34m\u001b[0m\u001b[0;34m\u001b[0m\u001b[0m\n\u001b[0;32m---> 27\u001b[0;31m \u001b[0mprint\u001b[0m\u001b[0;34m(\u001b[0m\u001b[0mpreallocate_features\u001b[0m\u001b[0;34m(\u001b[0m\u001b[0mprevious_readings\u001b[0m\u001b[0;34m)\u001b[0m\u001b[0;34m)\u001b[0m\u001b[0;34m\u001b[0m\u001b[0m\n\u001b[0m\u001b[1;32m     28\u001b[0m \u001b[0;34m\u001b[0m\u001b[0m\n",
      "\u001b[0;32m<ipython-input-164-8f473eab7364>\u001b[0m in \u001b[0;36mpreallocate_features\u001b[0;34m(previous_readings)\u001b[0m\n\u001b[1;32m     20\u001b[0m     \u001b[0mn_unique_hours\u001b[0m \u001b[0;34m=\u001b[0m \u001b[0mlen\u001b[0m\u001b[0;34m(\u001b[0m\u001b[0munique_hour_date_times\u001b[0m\u001b[0;34m)\u001b[0m\u001b[0;34m\u001b[0m\u001b[0m\n\u001b[1;32m     21\u001b[0m     \u001b[0mdata\u001b[0m\u001b[0;34m=\u001b[0m\u001b[0mnp\u001b[0m\u001b[0;34m.\u001b[0m\u001b[0mzeros\u001b[0m\u001b[0;34m(\u001b[0m\u001b[0;34m[\u001b[0m\u001b[0mn_unique_hours\u001b[0m\u001b[0;34m,\u001b[0m \u001b[0mn_devices\u001b[0m\u001b[0;34m,\u001b[0m \u001b[0;36m1\u001b[0m\u001b[0;34m]\u001b[0m\u001b[0;34m)\u001b[0m\u001b[0;34m\u001b[0m\u001b[0m\n\u001b[0;32m---> 22\u001b[0;31m     features = pd.DataFrame(0, index=np.arange(hour_interval_start_end), \n\u001b[0m\u001b[1;32m     23\u001b[0m                             columns=['time'] + device_list)\n\u001b[1;32m     24\u001b[0m     \u001b[0mfeatures\u001b[0m\u001b[0;34m[\u001b[0m\u001b[0;34m'time'\u001b[0m\u001b[0;34m]\u001b[0m \u001b[0;34m=\u001b[0m \u001b[0mhour_interval_start_end\u001b[0m\u001b[0;34m\u001b[0m\u001b[0m\n",
      "\u001b[0;31mTypeError\u001b[0m: invalid type promotion"
     ]
    }
   ],
   "source": [
    "# IDEA: ADD HOUR & DAY AS FEATURE?\n",
    "def preallocate_features(previous_readings):\n",
    "    n_devices = previous_readings['device'].nunique()\n",
    "    print('n_devices = ', n_devices)\n",
    "    tmp_time_stamp = first_time_stamp = pd.to_datetime(previous_readings['time'][0])\n",
    "    \n",
    "    unique_hour_date_times = [first_time_stamp.replace(minute=0, second=0)]\n",
    "    \n",
    "    hour_interval_start_end = pd.date_range(first_time_stamp.replace(minute=0, second=0), \n",
    "                                            previous_readings['time'][len(previous_readings) - 1].replace(minute=0, second=0), \n",
    "                                           freq='H')\n",
    "    print(hour_interval_start_end)\n",
    "    \n",
    "    for date_time in previous_readings['time']:\n",
    "        if not date_time_same_hour(date_time, tmp_time_stamp):\n",
    "            unique_hour_date_times += [date_time.replace(minute=0, second=0)]\n",
    "        tmp_time_stamp = date_time\n",
    "    \n",
    "    \n",
    "    n_unique_hours = len(unique_hour_date_times)\n",
    "    data=np.zeros([n_unique_hours, n_devices, 1])\n",
    "    features = pd.DataFrame(0, index=np.arange(hour_interval_start_end), \n",
    "                            columns=['time'] + device_list)\n",
    "    features['time'] = hour_interval_start_end\n",
    "    return features\n",
    "#print(\"Unique hours: \", len(preallocate_features(previous_readings)))\n",
    "print(preallocate_features(previous_readings))\n",
    "    "
   ]
  },
  {
   "cell_type": "code",
   "execution_count": 160,
   "metadata": {},
   "outputs": [
    {
     "name": "stdout",
     "output_type": "stream",
     "text": [
      "n_devices =  7\n",
      "(541, 7, 1)\n",
      "                   time  device_1  device_2  device_3  device_4  device_5  \\\n",
      "0   2016-07-01 04:00:00         0         0         0         0         0   \n",
      "1   2016-07-01 06:00:00         0         3         0         0         0   \n",
      "2   2016-07-01 07:00:00         0        12         0         4         0   \n",
      "3   2016-07-01 08:00:00         0         6         2         3         3   \n",
      "4   2016-07-01 09:00:00         0         4         1         0         0   \n",
      "5   2016-07-01 10:00:00         0         4         5         0         0   \n",
      "6   2016-07-01 11:00:00         0         5         1         0         0   \n",
      "7   2016-07-01 12:00:00         0         8         4         0         0   \n",
      "8   2016-07-01 13:00:00         0         7         5         0         0   \n",
      "9   2016-07-01 14:00:00         0         4         3         0         0   \n",
      "10  2016-07-01 15:00:00         0         9         4         0         0   \n",
      "11  2016-07-01 16:00:00         0         7         0         0         0   \n",
      "12  2016-07-03 20:00:00         0         0         1         0         0   \n",
      "13  2016-07-04 06:00:00         0         2         0         0         0   \n",
      "14  2016-07-04 07:00:00         0        12         0         0         0   \n",
      "15  2016-07-04 08:00:00         0        11         5         0         0   \n",
      "16  2016-07-04 09:00:00         0         8         5         0         0   \n",
      "17  2016-07-04 10:00:00         0         7         4         0         0   \n",
      "18  2016-07-04 11:00:00         0        11         2         0         0   \n",
      "19  2016-07-04 12:00:00         0         7         2         1         1   \n",
      "20  2016-07-04 13:00:00         0         9         5         2         4   \n",
      "21  2016-07-04 14:00:00         0         9         4         5         4   \n",
      "22  2016-07-04 15:00:00         0         6         6         6         2   \n",
      "23  2016-07-04 16:00:00         0         7         6         1         1   \n",
      "24  2016-07-04 17:00:00         0         1         3         3         0   \n",
      "25  2016-07-04 18:00:00         0         0         1         0         0   \n",
      "26  2016-07-04 19:00:00         0         0         5         0         0   \n",
      "27  2016-07-05 06:00:00         0         0         0         0         0   \n",
      "28  2016-07-05 07:00:00         0         0         0         3         0   \n",
      "29  2016-07-05 08:00:00         0         0         0         6         4   \n",
      "..                  ...       ...       ...       ...       ...       ...   \n",
      "511 2016-08-29 12:00:00         3         5         7         3         0   \n",
      "512 2016-08-29 13:00:00         6        11         5         1         6   \n",
      "513 2016-08-29 14:00:00         4         4         4         3         5   \n",
      "514 2016-08-29 15:00:00         4        11         3         4         1   \n",
      "515 2016-08-29 16:00:00         7        13         3         3         5   \n",
      "516 2016-08-29 17:00:00         0         0         0         4         1   \n",
      "517 2016-08-30 06:00:00         0         0         0         0         0   \n",
      "518 2016-08-30 07:00:00         2         7         0         2         0   \n",
      "519 2016-08-30 08:00:00         6         9         2         5         6   \n",
      "520 2016-08-30 09:00:00         6         5         1         3         5   \n",
      "521 2016-08-30 10:00:00         6        11         2         3         5   \n",
      "522 2016-08-30 11:00:00         5        12         3         6         2   \n",
      "523 2016-08-30 12:00:00         4        10         1         4         2   \n",
      "524 2016-08-30 13:00:00         7        10         2         4         2   \n",
      "525 2016-08-30 14:00:00         4        10         7         5         4   \n",
      "526 2016-08-30 15:00:00         4         7         5         4         3   \n",
      "527 2016-08-30 16:00:00         0         5         1         3         2   \n",
      "528 2016-08-30 17:00:00         0         1         0         2         0   \n",
      "529 2016-08-31 06:00:00         0         2         0         0         0   \n",
      "530 2016-08-31 07:00:00         2        10         1         3         0   \n",
      "531 2016-08-31 08:00:00         4         7         2         5         3   \n",
      "532 2016-08-31 09:00:00         5         6         1         7         4   \n",
      "533 2016-08-31 10:00:00         4         9         0         2         3   \n",
      "534 2016-08-31 11:00:00         1         8         2         6         2   \n",
      "535 2016-08-31 12:00:00         3         8         3         2         1   \n",
      "536 2016-08-31 13:00:00         4         7         5         6         4   \n",
      "537 2016-08-31 14:00:00         4        14         2         3         1   \n",
      "538 2016-08-31 15:00:00         3         2         0         4         6   \n",
      "539 2016-08-31 16:00:00         6         9         0         4         0   \n",
      "540 2016-08-31 17:00:00         0         0         0         3         0   \n",
      "\n",
      "     device_6  device_7  \n",
      "0           1         0  \n",
      "1           0         0  \n",
      "2           6         0  \n",
      "3           5         0  \n",
      "4           0         0  \n",
      "5           0         0  \n",
      "6           0         0  \n",
      "7           0         0  \n",
      "8           0         0  \n",
      "9           0         0  \n",
      "10          0         0  \n",
      "11          0         0  \n",
      "12          0         0  \n",
      "13          0         0  \n",
      "14          0         0  \n",
      "15          0         0  \n",
      "16          0         0  \n",
      "17          0         0  \n",
      "18          0         0  \n",
      "19          4         0  \n",
      "20          5         0  \n",
      "21          7         3  \n",
      "22          7         2  \n",
      "23          4         1  \n",
      "24          2         0  \n",
      "25          2         0  \n",
      "26          0         0  \n",
      "27          2         0  \n",
      "28          4         4  \n",
      "29          4         4  \n",
      "..        ...       ...  \n",
      "511         6         0  \n",
      "512         3         0  \n",
      "513         6         0  \n",
      "514         5         0  \n",
      "515         6         0  \n",
      "516         4         0  \n",
      "517         3         0  \n",
      "518         6         0  \n",
      "519         6         0  \n",
      "520         7         0  \n",
      "521         6         0  \n",
      "522         6         0  \n",
      "523         5         0  \n",
      "524         5         0  \n",
      "525         7         0  \n",
      "526         6         0  \n",
      "527         3         0  \n",
      "528         5         0  \n",
      "529         4         0  \n",
      "530         7         0  \n",
      "531         6         0  \n",
      "532         3         0  \n",
      "533         7         0  \n",
      "534         8         0  \n",
      "535         5         0  \n",
      "536         5         0  \n",
      "537         4         0  \n",
      "538         4         0  \n",
      "539         6         0  \n",
      "540         4         0  \n",
      "\n",
      "[541 rows x 8 columns]\n"
     ]
    }
   ],
   "source": [
    "def preprocess_features(previous_readings):\n",
    "    \"\"\"\n",
    "    Generate features so that we have an array with dimensions [T, n_devices, 1]\n",
    "    T: time\n",
    "    n_devices: number of devices\n",
    "    Last dimension: number of activations per hour\n",
    "    \"\"\"\n",
    "    \n",
    "    # We preallocate to avoid many appends (append copies according to pandas docs, might become an issue/slow for large data)\n",
    "    features = preallocate_features(previous_readings)\n",
    "    cur_feature_index = 0\n",
    "    cur_feature_dt = features['time'][0]\n",
    "    for index, row in previous_readings.iterrows():\n",
    "        if not(row['time'] > cur_feature_dt and row['time'] < cur_feature_dt + timedelta(hours=1)):\n",
    "            cur_feature_index += 1\n",
    "            cur_feature_dt = features['time'][cur_feature_index]\n",
    "        # Increment device's counter at time\n",
    "        features.at[cur_feature_index, row['device']] += 1\n",
    "            \n",
    "        features['time']\n",
    "    print(features)\n",
    "    return \n",
    "\n",
    "preprocess_features(previous_readings)"
   ]
  },
  {
   "cell_type": "code",
   "execution_count": null,
   "metadata": {},
   "outputs": [],
   "source": []
  }
 ],
 "metadata": {
  "kernelspec": {
   "display_name": "Python 3",
   "language": "python",
   "name": "python3"
  },
  "language_info": {
   "codemirror_mode": {
    "name": "ipython",
    "version": 3
   },
   "file_extension": ".py",
   "mimetype": "text/x-python",
   "name": "python",
   "nbconvert_exporter": "python",
   "pygments_lexer": "ipython3",
   "version": "3.6.5"
  }
 },
 "nbformat": 4,
 "nbformat_minor": 2
}
