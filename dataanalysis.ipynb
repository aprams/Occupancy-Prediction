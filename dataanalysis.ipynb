{
 "cells": [
  {
   "cell_type": "code",
   "execution_count": 1,
   "metadata": {},
   "outputs": [],
   "source": [
    "import itertools\n",
    "import numpy as np\n",
    "import pandas as pd\n",
    "import sys\n",
    "import os\n",
    "from datetime import timedelta\n",
    "\n",
    "from preprocess import read_and_preprocess_data"
   ]
  },
  {
   "cell_type": "code",
   "execution_count": 2,
   "metadata": {},
   "outputs": [],
   "source": [
    "in_file = \"challenge/data/device_activations_train.csv\"\n",
    "val_in_file = \"challenge/data/device_activations_val.csv\"\n",
    "test_in_file = \"challenge/data/device_activations_test.csv\"\n",
    "BATCH_SIZE = 16\n",
    "device_list=['device_1', 'device_2', 'device_3', 'device_4', 'device_5', 'device_6', 'device_7']"
   ]
  },
  {
   "cell_type": "code",
   "execution_count": 3,
   "metadata": {},
   "outputs": [
    {
     "name": "stdout",
     "output_type": "stream",
     "text": [
      "File challenge/data/device_activations_train.csv has 1013 timesteps (hours) until now\n",
      "initial features shape:  (1013, 9)\n",
      "Full sequence length:  525\n",
      "Sequence 0 has start index 0 and end index 525\n",
      "(525, 9)\n",
      "Sequence 1 has start index 30 and end index 555\n",
      "(525, 9)\n",
      "Sequence 2 has start index 60 and end index 585\n",
      "(525, 9)\n",
      "Sequence 3 has start index 90 and end index 615\n",
      "(525, 9)\n",
      "Sequence 4 has start index 120 and end index 645\n",
      "(525, 9)\n",
      "Sequence 5 has start index 150 and end index 675\n",
      "(525, 9)\n",
      "Sequence 6 has start index 180 and end index 705\n",
      "(525, 9)\n",
      "Sequence 7 has start index 210 and end index 735\n",
      "(525, 9)\n",
      "Sequence 8 has start index 240 and end index 765\n",
      "(525, 9)\n",
      "Sequence 9 has start index 270 and end index 795\n",
      "(525, 9)\n",
      "Sequence 10 has start index 300 and end index 825\n",
      "(525, 9)\n",
      "Sequence 11 has start index 330 and end index 855\n",
      "(525, 9)\n",
      "Sequence 12 has start index 360 and end index 885\n",
      "(525, 9)\n",
      "Sequence 13 has start index 390 and end index 915\n",
      "(525, 9)\n",
      "Sequence 14 has start index 420 and end index 945\n",
      "(525, 9)\n",
      "Sequence 15 has start index 450 and end index 975\n",
      "(525, 9)\n",
      "Features sequences shape:  (16, 21, 25, 9)\n",
      "Labels sequences shape:  (16, 21, 25, 7)\n",
      "[[ 4.  4.  0.  0.  0.  0.  0.  1.  0.]\n",
      " [ 4.  5.  0.  0.  0.  0.  0.  0.  0.]\n",
      " [ 4.  6.  0.  1.  0.  0.  0.  0.  0.]\n",
      " [ 4.  7.  0.  1.  0.  1.  0.  1.  0.]\n",
      " [ 4.  8.  0.  1.  1.  1.  1.  1.  0.]\n",
      " [ 4.  9.  0.  1.  1.  0.  0.  0.  0.]\n",
      " [ 4. 10.  0.  1.  1.  0.  0.  0.  0.]\n",
      " [ 4. 11.  0.  1.  1.  0.  0.  0.  0.]\n",
      " [ 4. 12.  0.  1.  1.  0.  0.  0.  0.]\n",
      " [ 4. 13.  0.  1.  1.  0.  0.  0.  0.]\n",
      " [ 4. 14.  0.  1.  1.  0.  0.  0.  0.]\n",
      " [ 4. 15.  0.  1.  1.  0.  0.  0.  0.]\n",
      " [ 4. 16.  0.  1.  0.  0.  0.  0.  0.]\n",
      " [ 4. 17.  0.  0.  0.  0.  0.  0.  0.]\n",
      " [ 4. 18.  0.  0.  0.  0.  0.  0.  0.]\n",
      " [ 4. 19.  0.  0.  0.  0.  0.  0.  0.]\n",
      " [ 4. 20.  0.  0.  0.  0.  0.  0.  0.]\n",
      " [ 4. 21.  0.  0.  0.  0.  0.  0.  0.]\n",
      " [ 4. 22.  0.  0.  0.  0.  0.  0.  0.]\n",
      " [ 4. 23.  0.  0.  0.  0.  0.  0.  0.]\n",
      " [ 5.  0.  0.  0.  0.  0.  0.  0.  0.]\n",
      " [ 5.  1.  0.  0.  0.  0.  0.  0.  0.]\n",
      " [ 5.  2.  0.  0.  0.  0.  0.  0.  0.]\n",
      " [ 5.  3.  0.  0.  0.  0.  0.  0.  0.]\n",
      " [ 5.  4.  0.  0.  0.  0.  0.  0.  0.]]\n",
      "[[ 5. 10.  0.  0.  0.  0.  0.  0.  0.]\n",
      " [ 5. 11.  0.  0.  0.  0.  0.  0.  0.]\n",
      " [ 5. 12.  0.  0.  0.  0.  0.  0.  0.]\n",
      " [ 5. 13.  0.  0.  0.  0.  0.  0.  0.]\n",
      " [ 5. 14.  0.  0.  0.  0.  0.  0.  0.]\n",
      " [ 5. 15.  0.  0.  0.  0.  0.  0.  0.]\n",
      " [ 5. 16.  0.  0.  0.  0.  0.  0.  0.]\n",
      " [ 5. 17.  0.  0.  0.  0.  0.  0.  0.]\n",
      " [ 5. 18.  0.  0.  0.  0.  0.  0.  0.]\n",
      " [ 5. 19.  0.  0.  0.  0.  0.  0.  0.]\n",
      " [ 5. 20.  0.  0.  0.  0.  0.  0.  0.]\n",
      " [ 5. 21.  0.  0.  0.  0.  0.  0.  0.]\n",
      " [ 5. 22.  0.  0.  0.  0.  0.  0.  0.]\n",
      " [ 5. 23.  0.  0.  0.  0.  0.  0.  0.]\n",
      " [ 6.  0.  0.  0.  0.  0.  0.  0.  0.]\n",
      " [ 6.  1.  0.  0.  0.  0.  0.  0.  0.]\n",
      " [ 6.  2.  0.  0.  0.  0.  0.  0.  0.]\n",
      " [ 6.  3.  0.  0.  0.  0.  0.  0.  0.]\n",
      " [ 6.  4.  0.  0.  0.  0.  0.  0.  0.]\n",
      " [ 6.  5.  0.  0.  0.  0.  0.  0.  0.]\n",
      " [ 6.  6.  0.  0.  0.  0.  0.  0.  0.]\n",
      " [ 6.  7.  0.  0.  0.  0.  0.  0.  0.]\n",
      " [ 6.  8.  0.  0.  0.  0.  0.  0.  0.]\n",
      " [ 6.  9.  0.  0.  0.  0.  0.  0.  0.]\n",
      " [ 6. 10.  0.  0.  0.  0.  0.  0.  0.]]\n",
      "[[ 1. 18.  0.  0.  0.  0.  0.  0.  0.]\n",
      " [ 1. 19.  0.  0.  0.  0.  0.  0.  0.]\n",
      " [ 1. 20.  0.  0.  0.  0.  0.  0.  0.]\n",
      " [ 1. 21.  0.  0.  0.  0.  0.  0.  0.]\n",
      " [ 1. 22.  0.  0.  0.  0.  0.  0.  0.]\n",
      " [ 1. 23.  0.  0.  0.  0.  0.  0.  0.]\n",
      " [ 2.  0.  0.  0.  0.  0.  0.  0.  0.]\n",
      " [ 2.  1.  0.  0.  0.  0.  0.  0.  0.]\n",
      " [ 2.  2.  0.  0.  0.  0.  0.  0.  0.]\n",
      " [ 2.  3.  0.  0.  0.  0.  0.  0.  0.]\n",
      " [ 2.  4.  0.  0.  0.  0.  0.  0.  0.]\n",
      " [ 2.  5.  0.  0.  0.  0.  0.  0.  0.]\n",
      " [ 2.  6.  0.  1.  0.  0.  0.  0.  0.]\n",
      " [ 2.  7.  1.  1.  0.  0.  0.  0.  0.]\n",
      " [ 2.  8.  1.  1.  1.  0.  0.  0.  0.]\n",
      " [ 2.  9.  1.  1.  1.  0.  0.  0.  0.]\n",
      " [ 2. 10.  0.  1.  1.  0.  0.  0.  0.]\n",
      " [ 2. 11.  0.  1.  0.  0.  1.  1.  0.]\n",
      " [ 2. 12.  1.  1.  0.  1.  1.  1.  0.]\n",
      " [ 2. 13.  1.  1.  0.  0.  0.  1.  0.]\n",
      " [ 2. 14.  1.  1.  1.  1.  1.  1.  0.]\n",
      " [ 2. 15.  1.  1.  1.  1.  1.  1.  0.]\n",
      " [ 2. 16.  1.  1.  1.  1.  1.  1.  0.]\n",
      " [ 2. 17.  0.  0.  0.  1.  1.  1.  1.]\n",
      " [ 2. 18.  0.  0.  0.  1.  1.  1.  0.]]\n",
      "Feature batch:  (336, 25, 9)\n",
      "Label batch:  (336, 25, 7)\n"
     ]
    }
   ],
   "source": [
    "feature_batch, label_batch, device_list = read_and_preprocess_data(in_file, batch_size=BATCH_SIZE, device_list=device_list, sequence_start_shift=30)\n",
    "print(feature_batch[0])\n",
    "print(feature_batch[1])\n",
    "print(feature_batch[-1])\n",
    "print(\"Feature batch: \", feature_batch.shape)\n",
    "print(\"Label batch: \", label_batch.shape)"
   ]
  },
  {
   "cell_type": "code",
   "execution_count": 4,
   "metadata": {},
   "outputs": [
    {
     "name": "stdout",
     "output_type": "stream",
     "text": [
      "File challenge/data/device_activations_val.csv has 287 timesteps (hours) until now\n",
      "File challenge/data/device_activations_test.csv has 175 timesteps (hours) until now\n"
     ]
    }
   ],
   "source": [
    "val_features, val_labels, _ = read_and_preprocess_data(val_in_file, batch_size=1, device_list=device_list)\n",
    "test_features, test_labels, _ = read_and_preprocess_data(test_in_file, batch_size=1, device_list=device_list)"
   ]
  },
  {
   "cell_type": "code",
   "execution_count": 5,
   "metadata": {},
   "outputs": [
    {
     "name": "stdout",
     "output_type": "stream",
     "text": [
      "Percentage of positive outputs per device:  [0.0777381  0.2475     0.16202381 0.24214286 0.23559524 0.34678571\n",
      " 0.03559524]\n"
     ]
    }
   ],
   "source": [
    "def calc_ratio_positive_outputs_per_device(labels):\n",
    "    ratio_per_device = np.sum(labels, axis=0) / labels.shape[0]\n",
    "    print(\"Percentage of positive outputs per device: \", ratio_per_device)\n",
    "    return np.array(ratio_per_device)\n",
    "ratio_positive_outputs_per_device = calc_ratio_positive_outputs_per_device(label_batch.reshape([-1, label_batch.shape[-1]]))"
   ]
  },
  {
   "cell_type": "code",
   "execution_count": 101,
   "metadata": {},
   "outputs": [],
   "source": [
    "import matplotlib.pyplot as plt\n",
    "import math\n",
    "from keras.models import Sequential, load_model\n",
    "from keras.layers import Dense, Activation, Dropout\n",
    "from keras.layers import LSTM\n",
    "from keras.regularizers import l2\n",
    "from keras import objectives\n",
    "from keras import backend as K\n",
    "from keras import optimizers\n",
    "\n",
    "from sklearn.metrics import mean_squared_error\n",
    "from math import sqrt\n",
    "\n",
    "from bayes_opt import BayesianOptimization"
   ]
  },
  {
   "cell_type": "code",
   "execution_count": 102,
   "metadata": {},
   "outputs": [],
   "source": [
    "USE_WEIGHTED_LOSS = True"
   ]
  },
  {
   "cell_type": "code",
   "execution_count": 103,
   "metadata": {},
   "outputs": [],
   "source": [
    "# Create our own weighted loss to combat label imbalance\n",
    "def weighted_loss(y_true, y_pred):\n",
    "    out = -(y_true * K.log(y_pred + 1e-5) / ratio_positive_outputs_per_device + (1.0 - y_true) * K.log(1.0 - y_pred + 1e-5))\n",
    "    return K.mean(out, axis=-1)"
   ]
  },
  {
   "cell_type": "code",
   "execution_count": 104,
   "metadata": {},
   "outputs": [],
   "source": [
    "def create_model(params):\n",
    "    model = Sequential()\n",
    "    model.add(LSTM(params['lstm_units'], batch_input_shape=(params['batch_size'], None, params['n_features']), return_sequences=True, stateful=True, kernel_regularizer=l2(params['reg'])))\n",
    "    model.add(Dropout(params['dropout']))\n",
    "    model.add(Dense(params['n_outputs'], activation='sigmoid'))\n",
    "    \n",
    "    adam = optimizers.Adam(lr=params['lr'])\n",
    "    model.compile(loss=weighted_loss if params['use_weighted_loss'] else 'binary_crossentropy', optimizer=adam)\n",
    "    return model\n",
    "\n",
    "training_params = {'optimizer': 'adam', \n",
    "                   'use_weighted_loss': USE_WEIGHTED_LOSS,\n",
    "                   'batch_size': BATCH_SIZE,\n",
    "                   'dropout': 0.2,\n",
    "                   'epochs': 250,\n",
    "                   'n_outputs': len(device_list),\n",
    "                   'n_features': feature_batch.shape[-1],\n",
    "                   'lstm_units': 8,\n",
    "                   'devices': device_list}"
   ]
  },
  {
   "cell_type": "code",
   "execution_count": 108,
   "metadata": {},
   "outputs": [],
   "source": [
    "def predict_24h(model, features, labels):\n",
    "    predictions = np.squeeze(model.predict(np.expand_dims(features, 0), batch_size=1))  # (n_timesteps, n_outputs)\n",
    "\n",
    "    all_predictions = []\n",
    "\n",
    "    last_features = np.squeeze(features)[-1]\n",
    "    last_predictions = tmp_prediction = predictions[-1]\n",
    "\n",
    "    tmp_features = np.array(last_features)\n",
    "    tmp_features = np.concatenate([tmp_features[:2], last_predictions])\n",
    "    for i in range(24):\n",
    "        # print(tmp_prediction)\n",
    "        tmp_prediction = np.round(model.predict(np.reshape(tmp_features, [1, 1, len(tmp_features)])))\n",
    "        tmp_features = np.concatenate([tmp_features[:2], tmp_prediction[0, 0]])\n",
    "        \n",
    "        # Increment time features\n",
    "        if tmp_features[1] == 23:\n",
    "            tmp_features[0] = (tmp_features[0] + 1) % 7\n",
    "        tmp_features[1] = (tmp_features[1] + 1) % 24\n",
    "        all_predictions += [tmp_prediction]\n",
    "\n",
    "    return np.concatenate(all_predictions)\n",
    "\n",
    "def calc_accuracy(model, params, test_X, test_Y):\n",
    "    # Hack around Keras batch size restriction (to have same for training/test)\n",
    "    model.save('tmp_model.h5')\n",
    "    test_params = dict(params)\n",
    "    test_params['batch_size'] = 1\n",
    "    test_model = create_model(test_params)\n",
    "    test_model.load_weights('tmp_model.h5')\n",
    "    os.remove('tmp_model.h5')\n",
    "    n = test_X.shape[1]\n",
    "    acc_accumulated = 0.0\n",
    "    for i in range(48, n - 24):\n",
    "        predictions = np.squeeze(predict_24h(test_model, test_X[0, :i], test_Y[0, :i]))\n",
    "        true_labels = test_Y[0, i:i+24]\n",
    "        acc = np.sum(np.round(predictions) == true_labels) / predictions.size\n",
    "        acc_accumulated += acc\n",
    "        #print(\"Val accuracy: \", np.sum(np.round(predictions) == true_labels) / predictions.size) \n",
    "        #print(\"Val accuracy per device:: \", np.sum(np.round(predictions) == true_labels, axis=0) / predictions.shape[0]) \n",
    "\n",
    "    return acc_accumulated / (n-26)\n"
   ]
  },
  {
   "cell_type": "code",
   "execution_count": 109,
   "metadata": {
    "scrolled": true
   },
   "outputs": [],
   "source": [
    "def train_model_with_params(params, train_X, train_Y):\n",
    "    model = create_model(params)\n",
    "    history = model.fit(train_X, train_Y, epochs=params['epochs'], batch_size=params['batch_size'], verbose=0, shuffle=False)\n",
    "    return model\n",
    "\n",
    "def eval_model_params(params, train_X, train_Y, val_X, val_Y):\n",
    "    model = train_model_with_params(params, feature_batch, label_batch)\n",
    "    val_acc = calc_accuracy(model, params, val_features, val_labels)\n",
    "    return model, val_acc\n"
   ]
  },
  {
   "cell_type": "code",
   "execution_count": 112,
   "metadata": {},
   "outputs": [
    {
     "name": "stdout",
     "output_type": "stream",
     "text": [
      "Tmp result:  0.6199142492245947 {'lr': 0.001, 'use_weighted_loss': True, 'batch_size': 16, 'dropout': 0.0, 'epochs': 250, 'n_outputs': 7, 'n_features': 9, 'lstm_units': 16, 'devices': ['device_1', 'device_2', 'device_3', 'device_4', 'device_5', 'device_6', 'device_7'], 'reg': 0.0}\n",
      "Tmp result:  0.6267560664112389 {'lr': 0.001, 'use_weighted_loss': True, 'batch_size': 16, 'dropout': 0.0, 'epochs': 250, 'n_outputs': 7, 'n_features': 9, 'lstm_units': 16, 'devices': ['device_1', 'device_2', 'device_3', 'device_4', 'device_5', 'device_6', 'device_7'], 'reg': 0.01}\n",
      "Tmp result:  0.6368363437328957 {'lr': 0.001, 'use_weighted_loss': True, 'batch_size': 16, 'dropout': 0.0, 'epochs': 250, 'n_outputs': 7, 'n_features': 9, 'lstm_units': 16, 'devices': ['device_1', 'device_2', 'device_3', 'device_4', 'device_5', 'device_6', 'device_7'], 'reg': 0.1}\n",
      "Tmp result:  0.6607598978288644 {'lr': 0.001, 'use_weighted_loss': True, 'batch_size': 16, 'dropout': 0.0, 'epochs': 250, 'n_outputs': 7, 'n_features': 9, 'lstm_units': 32, 'devices': ['device_1', 'device_2', 'device_3', 'device_4', 'device_5', 'device_6', 'device_7'], 'reg': 0.0}\n",
      "Tmp result:  0.6519339536580927 {'lr': 0.001, 'use_weighted_loss': True, 'batch_size': 16, 'dropout': 0.0, 'epochs': 250, 'n_outputs': 7, 'n_features': 9, 'lstm_units': 32, 'devices': ['device_1', 'device_2', 'device_3', 'device_4', 'device_5', 'device_6', 'device_7'], 'reg': 0.01}\n",
      "Tmp result:  0.6306787082649146 {'lr': 0.001, 'use_weighted_loss': True, 'batch_size': 16, 'dropout': 0.0, 'epochs': 250, 'n_outputs': 7, 'n_features': 9, 'lstm_units': 32, 'devices': ['device_1', 'device_2', 'device_3', 'device_4', 'device_5', 'device_6', 'device_7'], 'reg': 0.1}\n",
      "Tmp result:  0.6702928297755893 {'lr': 0.001, 'use_weighted_loss': True, 'batch_size': 16, 'dropout': 0.0, 'epochs': 250, 'n_outputs': 7, 'n_features': 9, 'lstm_units': 64, 'devices': ['device_1', 'device_2', 'device_3', 'device_4', 'device_5', 'device_6', 'device_7'], 'reg': 0.0}\n",
      "Tmp result:  0.6670087575260001 {'lr': 0.001, 'use_weighted_loss': True, 'batch_size': 16, 'dropout': 0.0, 'epochs': 250, 'n_outputs': 7, 'n_features': 9, 'lstm_units': 64, 'devices': ['device_1', 'device_2', 'device_3', 'device_4', 'device_5', 'device_6', 'device_7'], 'reg': 0.01}\n",
      "Tmp result:  0.6485358511220587 {'lr': 0.001, 'use_weighted_loss': True, 'batch_size': 16, 'dropout': 0.0, 'epochs': 250, 'n_outputs': 7, 'n_features': 9, 'lstm_units': 64, 'devices': ['device_1', 'device_2', 'device_3', 'device_4', 'device_5', 'device_6', 'device_7'], 'reg': 0.1}\n",
      "Tmp result:  0.6766785258164564 {'lr': 0.001, 'use_weighted_loss': True, 'batch_size': 16, 'dropout': 0.0, 'epochs': 250, 'n_outputs': 7, 'n_features': 9, 'lstm_units': 128, 'devices': ['device_1', 'device_2', 'device_3', 'device_4', 'device_5', 'device_6', 'device_7'], 'reg': 0.0}\n",
      "Tmp result:  0.6819011129355954 {'lr': 0.001, 'use_weighted_loss': True, 'batch_size': 16, 'dropout': 0.0, 'epochs': 250, 'n_outputs': 7, 'n_features': 9, 'lstm_units': 128, 'devices': ['device_1', 'device_2', 'device_3', 'device_4', 'device_5', 'device_6', 'device_7'], 'reg': 0.01}\n",
      "Tmp result:  0.6646141215106731 {'lr': 0.001, 'use_weighted_loss': True, 'batch_size': 16, 'dropout': 0.0, 'epochs': 250, 'n_outputs': 7, 'n_features': 9, 'lstm_units': 128, 'devices': ['device_1', 'device_2', 'device_3', 'device_4', 'device_5', 'device_6', 'device_7'], 'reg': 0.1}\n",
      "Tmp result:  0.5743249407042517 {'lr': 0.001, 'use_weighted_loss': True, 'batch_size': 16, 'dropout': 0.2, 'epochs': 250, 'n_outputs': 7, 'n_features': 9, 'lstm_units': 16, 'devices': ['device_1', 'device_2', 'device_3', 'device_4', 'device_5', 'device_6', 'device_7'], 'reg': 0.0}\n",
      "Tmp result:  0.6039728151797121 {'lr': 0.001, 'use_weighted_loss': True, 'batch_size': 16, 'dropout': 0.2, 'epochs': 250, 'n_outputs': 7, 'n_features': 9, 'lstm_units': 16, 'devices': ['device_1', 'device_2', 'device_3', 'device_4', 'device_5', 'device_6', 'device_7'], 'reg': 0.01}\n",
      "Tmp result:  0.6268016785258161 {'lr': 0.001, 'use_weighted_loss': True, 'batch_size': 16, 'dropout': 0.2, 'epochs': 250, 'n_outputs': 7, 'n_features': 9, 'lstm_units': 16, 'devices': ['device_1', 'device_2', 'device_3', 'device_4', 'device_5', 'device_6', 'device_7'], 'reg': 0.1}\n",
      "Tmp result:  0.6320470717022443 {'lr': 0.001, 'use_weighted_loss': True, 'batch_size': 16, 'dropout': 0.2, 'epochs': 250, 'n_outputs': 7, 'n_features': 9, 'lstm_units': 32, 'devices': ['device_1', 'device_2', 'device_3', 'device_4', 'device_5', 'device_6', 'device_7'], 'reg': 0.0}\n",
      "Tmp result:  0.6419449005655912 {'lr': 0.001, 'use_weighted_loss': True, 'batch_size': 16, 'dropout': 0.2, 'epochs': 250, 'n_outputs': 7, 'n_features': 9, 'lstm_units': 32, 'devices': ['device_1', 'device_2', 'device_3', 'device_4', 'device_5', 'device_6', 'device_7'], 'reg': 0.01}\n",
      "Tmp result:  0.6561302681992338 {'lr': 0.001, 'use_weighted_loss': True, 'batch_size': 16, 'dropout': 0.2, 'epochs': 250, 'n_outputs': 7, 'n_features': 9, 'lstm_units': 32, 'devices': ['device_1', 'device_2', 'device_3', 'device_4', 'device_5', 'device_6', 'device_7'], 'reg': 0.1}\n",
      "Tmp result:  0.6560618500273682 {'lr': 0.001, 'use_weighted_loss': True, 'batch_size': 16, 'dropout': 0.2, 'epochs': 250, 'n_outputs': 7, 'n_features': 9, 'lstm_units': 64, 'devices': ['device_1', 'device_2', 'device_3', 'device_4', 'device_5', 'device_6', 'device_7'], 'reg': 0.0}\n",
      "Tmp result:  0.6589126071884699 {'lr': 0.001, 'use_weighted_loss': True, 'batch_size': 16, 'dropout': 0.2, 'epochs': 250, 'n_outputs': 7, 'n_features': 9, 'lstm_units': 64, 'devices': ['device_1', 'device_2', 'device_3', 'device_4', 'device_5', 'device_6', 'device_7'], 'reg': 0.01}\n",
      "Tmp result:  0.6566548075168765 {'lr': 0.001, 'use_weighted_loss': True, 'batch_size': 16, 'dropout': 0.2, 'epochs': 250, 'n_outputs': 7, 'n_features': 9, 'lstm_units': 64, 'devices': ['device_1', 'device_2', 'device_3', 'device_4', 'device_5', 'device_6', 'device_7'], 'reg': 0.1}\n",
      "Tmp result:  0.662721218755703 {'lr': 0.001, 'use_weighted_loss': True, 'batch_size': 16, 'dropout': 0.2, 'epochs': 250, 'n_outputs': 7, 'n_features': 9, 'lstm_units': 128, 'devices': ['device_1', 'device_2', 'device_3', 'device_4', 'device_5', 'device_6', 'device_7'], 'reg': 0.0}\n",
      "Tmp result:  0.6772942893632552 {'lr': 0.001, 'use_weighted_loss': True, 'batch_size': 16, 'dropout': 0.2, 'epochs': 250, 'n_outputs': 7, 'n_features': 9, 'lstm_units': 128, 'devices': ['device_1', 'device_2', 'device_3', 'device_4', 'device_5', 'device_6', 'device_7'], 'reg': 0.01}\n",
      "Tmp result:  0.6762680167852585 {'lr': 0.001, 'use_weighted_loss': True, 'batch_size': 16, 'dropout': 0.2, 'epochs': 250, 'n_outputs': 7, 'n_features': 9, 'lstm_units': 128, 'devices': ['device_1', 'device_2', 'device_3', 'device_4', 'device_5', 'device_6', 'device_7'], 'reg': 0.1}\n",
      "Tmp result:  0.6100620324758265 {'lr': 0.001, 'use_weighted_loss': True, 'batch_size': 16, 'dropout': 0.5, 'epochs': 250, 'n_outputs': 7, 'n_features': 9, 'lstm_units': 16, 'devices': ['device_1', 'device_2', 'device_3', 'device_4', 'device_5', 'device_6', 'device_7'], 'reg': 0.0}\n",
      "Tmp result:  0.6202791461412148 {'lr': 0.001, 'use_weighted_loss': True, 'batch_size': 16, 'dropout': 0.5, 'epochs': 250, 'n_outputs': 7, 'n_features': 9, 'lstm_units': 16, 'devices': ['device_1', 'device_2', 'device_3', 'device_4', 'device_5', 'device_6', 'device_7'], 'reg': 0.01}\n",
      "Tmp result:  0.6123198321474179 {'lr': 0.001, 'use_weighted_loss': True, 'batch_size': 16, 'dropout': 0.5, 'epochs': 250, 'n_outputs': 7, 'n_features': 9, 'lstm_units': 16, 'devices': ['device_1', 'device_2', 'device_3', 'device_4', 'device_5', 'device_6', 'device_7'], 'reg': 0.1}\n",
      "Tmp result:  0.630085750775406 {'lr': 0.001, 'use_weighted_loss': True, 'batch_size': 16, 'dropout': 0.5, 'epochs': 250, 'n_outputs': 7, 'n_features': 9, 'lstm_units': 32, 'devices': ['device_1', 'device_2', 'device_3', 'device_4', 'device_5', 'device_6', 'device_7'], 'reg': 0.0}\n",
      "Tmp result:  0.6243158182813346 {'lr': 0.001, 'use_weighted_loss': True, 'batch_size': 16, 'dropout': 0.5, 'epochs': 250, 'n_outputs': 7, 'n_features': 9, 'lstm_units': 32, 'devices': ['device_1', 'device_2', 'device_3', 'device_4', 'device_5', 'device_6', 'device_7'], 'reg': 0.01}\n",
      "Tmp result:  0.6288770297390983 {'lr': 0.001, 'use_weighted_loss': True, 'batch_size': 16, 'dropout': 0.5, 'epochs': 250, 'n_outputs': 7, 'n_features': 9, 'lstm_units': 32, 'devices': ['device_1', 'device_2', 'device_3', 'device_4', 'device_5', 'device_6', 'device_7'], 'reg': 0.1}\n"
     ]
    },
    {
     "name": "stdout",
     "output_type": "stream",
     "text": [
      "Tmp result:  0.6614896916621068 {'lr': 0.001, 'use_weighted_loss': True, 'batch_size': 16, 'dropout': 0.5, 'epochs': 250, 'n_outputs': 7, 'n_features': 9, 'lstm_units': 64, 'devices': ['device_1', 'device_2', 'device_3', 'device_4', 'device_5', 'device_6', 'device_7'], 'reg': 0.0}\n",
      "Tmp result:  0.6448640758985581 {'lr': 0.001, 'use_weighted_loss': True, 'batch_size': 16, 'dropout': 0.5, 'epochs': 250, 'n_outputs': 7, 'n_features': 9, 'lstm_units': 64, 'devices': ['device_1', 'device_2', 'device_3', 'device_4', 'device_5', 'device_6', 'device_7'], 'reg': 0.01}\n",
      "Tmp result:  0.6470762634555747 {'lr': 0.001, 'use_weighted_loss': True, 'batch_size': 16, 'dropout': 0.5, 'epochs': 250, 'n_outputs': 7, 'n_features': 9, 'lstm_units': 64, 'devices': ['device_1', 'device_2', 'device_3', 'device_4', 'device_5', 'device_6', 'device_7'], 'reg': 0.1}\n",
      "Tmp result:  0.666324575807335 {'lr': 0.001, 'use_weighted_loss': True, 'batch_size': 16, 'dropout': 0.5, 'epochs': 250, 'n_outputs': 7, 'n_features': 9, 'lstm_units': 128, 'devices': ['device_1', 'device_2', 'device_3', 'device_4', 'device_5', 'device_6', 'device_7'], 'reg': 0.0}\n",
      "Tmp result:  0.6721629264732712 {'lr': 0.001, 'use_weighted_loss': True, 'batch_size': 16, 'dropout': 0.5, 'epochs': 250, 'n_outputs': 7, 'n_features': 9, 'lstm_units': 128, 'devices': ['device_1', 'device_2', 'device_3', 'device_4', 'device_5', 'device_6', 'device_7'], 'reg': 0.01}\n",
      "Tmp result:  0.646323663565043 {'lr': 0.001, 'use_weighted_loss': True, 'batch_size': 16, 'dropout': 0.5, 'epochs': 250, 'n_outputs': 7, 'n_features': 9, 'lstm_units': 128, 'devices': ['device_1', 'device_2', 'device_3', 'device_4', 'device_5', 'device_6', 'device_7'], 'reg': 0.1}\n",
      "Tmp result:  0.5795475278233897 {'lr': 0.0001, 'use_weighted_loss': True, 'batch_size': 16, 'dropout': 0.0, 'epochs': 250, 'n_outputs': 7, 'n_features': 9, 'lstm_units': 16, 'devices': ['device_1', 'device_2', 'device_3', 'device_4', 'device_5', 'device_6', 'device_7'], 'reg': 0.0}\n",
      "Tmp result:  0.6165389527458491 {'lr': 0.0001, 'use_weighted_loss': True, 'batch_size': 16, 'dropout': 0.0, 'epochs': 250, 'n_outputs': 7, 'n_features': 9, 'lstm_units': 16, 'devices': ['device_1', 'device_2', 'device_3', 'device_4', 'device_5', 'device_6', 'device_7'], 'reg': 0.01}\n",
      "Tmp result:  0.6383187374566681 {'lr': 0.0001, 'use_weighted_loss': True, 'batch_size': 16, 'dropout': 0.0, 'epochs': 250, 'n_outputs': 7, 'n_features': 9, 'lstm_units': 16, 'devices': ['device_1', 'device_2', 'device_3', 'device_4', 'device_5', 'device_6', 'device_7'], 'reg': 0.1}\n",
      "Tmp result:  0.6165389527458498 {'lr': 0.0001, 'use_weighted_loss': True, 'batch_size': 16, 'dropout': 0.0, 'epochs': 250, 'n_outputs': 7, 'n_features': 9, 'lstm_units': 32, 'devices': ['device_1', 'device_2', 'device_3', 'device_4', 'device_5', 'device_6', 'device_7'], 'reg': 0.0}\n",
      "Tmp result:  0.6174740010946913 {'lr': 0.0001, 'use_weighted_loss': True, 'batch_size': 16, 'dropout': 0.0, 'epochs': 250, 'n_outputs': 7, 'n_features': 9, 'lstm_units': 32, 'devices': ['device_1', 'device_2', 'device_3', 'device_4', 'device_5', 'device_6', 'device_7'], 'reg': 0.01}\n",
      "Tmp result:  0.635627622696588 {'lr': 0.0001, 'use_weighted_loss': True, 'batch_size': 16, 'dropout': 0.0, 'epochs': 250, 'n_outputs': 7, 'n_features': 9, 'lstm_units': 32, 'devices': ['device_1', 'device_2', 'device_3', 'device_4', 'device_5', 'device_6', 'device_7'], 'reg': 0.1}\n",
      "Tmp result:  0.6294015690567415 {'lr': 0.0001, 'use_weighted_loss': True, 'batch_size': 16, 'dropout': 0.0, 'epochs': 250, 'n_outputs': 7, 'n_features': 9, 'lstm_units': 64, 'devices': ['device_1', 'device_2', 'device_3', 'device_4', 'device_5', 'device_6', 'device_7'], 'reg': 0.0}\n",
      "Tmp result:  0.6420361247947454 {'lr': 0.0001, 'use_weighted_loss': True, 'batch_size': 16, 'dropout': 0.0, 'epochs': 250, 'n_outputs': 7, 'n_features': 9, 'lstm_units': 64, 'devices': ['device_1', 'device_2', 'device_3', 'device_4', 'device_5', 'device_6', 'device_7'], 'reg': 0.01}\n",
      "Tmp result:  0.6275998905309251 {'lr': 0.0001, 'use_weighted_loss': True, 'batch_size': 16, 'dropout': 0.0, 'epochs': 250, 'n_outputs': 7, 'n_features': 9, 'lstm_units': 64, 'devices': ['device_1', 'device_2', 'device_3', 'device_4', 'device_5', 'device_6', 'device_7'], 'reg': 0.1}\n",
      "Tmp result:  0.6355820105820102 {'lr': 0.0001, 'use_weighted_loss': True, 'batch_size': 16, 'dropout': 0.0, 'epochs': 250, 'n_outputs': 7, 'n_features': 9, 'lstm_units': 128, 'devices': ['device_1', 'device_2', 'device_3', 'device_4', 'device_5', 'device_6', 'device_7'], 'reg': 0.0}\n",
      "Tmp result:  0.6496533479292099 {'lr': 0.0001, 'use_weighted_loss': True, 'batch_size': 16, 'dropout': 0.0, 'epochs': 250, 'n_outputs': 7, 'n_features': 9, 'lstm_units': 128, 'devices': ['device_1', 'device_2', 'device_3', 'device_4', 'device_5', 'device_6', 'device_7'], 'reg': 0.01}\n",
      "Tmp result:  0.6309295748950916 {'lr': 0.0001, 'use_weighted_loss': True, 'batch_size': 16, 'dropout': 0.0, 'epochs': 250, 'n_outputs': 7, 'n_features': 9, 'lstm_units': 128, 'devices': ['device_1', 'device_2', 'device_3', 'device_4', 'device_5', 'device_6', 'device_7'], 'reg': 0.1}\n",
      "Tmp result:  0.5644271118409053 {'lr': 0.0001, 'use_weighted_loss': True, 'batch_size': 16, 'dropout': 0.2, 'epochs': 250, 'n_outputs': 7, 'n_features': 9, 'lstm_units': 16, 'devices': ['device_1', 'device_2', 'device_3', 'device_4', 'device_5', 'device_6', 'device_7'], 'reg': 0.0}\n",
      "Tmp result:  0.5903347929210001 {'lr': 0.0001, 'use_weighted_loss': True, 'batch_size': 16, 'dropout': 0.2, 'epochs': 250, 'n_outputs': 7, 'n_features': 9, 'lstm_units': 16, 'devices': ['device_1', 'device_2', 'device_3', 'device_4', 'device_5', 'device_6', 'device_7'], 'reg': 0.01}\n",
      "Tmp result:  0.6257297938332418 {'lr': 0.0001, 'use_weighted_loss': True, 'batch_size': 16, 'dropout': 0.2, 'epochs': 250, 'n_outputs': 7, 'n_features': 9, 'lstm_units': 16, 'devices': ['device_1', 'device_2', 'device_3', 'device_4', 'device_5', 'device_6', 'device_7'], 'reg': 0.1}\n",
      "Tmp result:  0.5871875570151437 {'lr': 0.0001, 'use_weighted_loss': True, 'batch_size': 16, 'dropout': 0.2, 'epochs': 250, 'n_outputs': 7, 'n_features': 9, 'lstm_units': 32, 'devices': ['device_1', 'device_2', 'device_3', 'device_4', 'device_5', 'device_6', 'device_7'], 'reg': 0.0}\n",
      "Tmp result:  0.6036307243203793 {'lr': 0.0001, 'use_weighted_loss': True, 'batch_size': 16, 'dropout': 0.2, 'epochs': 250, 'n_outputs': 7, 'n_features': 9, 'lstm_units': 32, 'devices': ['device_1', 'device_2', 'device_3', 'device_4', 'device_5', 'device_6', 'device_7'], 'reg': 0.01}\n",
      "Tmp result:  0.6223088852399198 {'lr': 0.0001, 'use_weighted_loss': True, 'batch_size': 16, 'dropout': 0.2, 'epochs': 250, 'n_outputs': 7, 'n_features': 9, 'lstm_units': 32, 'devices': ['device_1', 'device_2', 'device_3', 'device_4', 'device_5', 'device_6', 'device_7'], 'reg': 0.1}\n",
      "Tmp result:  0.624977193942712 {'lr': 0.0001, 'use_weighted_loss': True, 'batch_size': 16, 'dropout': 0.2, 'epochs': 250, 'n_outputs': 7, 'n_features': 9, 'lstm_units': 64, 'devices': ['device_1', 'device_2', 'device_3', 'device_4', 'device_5', 'device_6', 'device_7'], 'reg': 0.0}\n",
      "Tmp result:  0.63211548987411 {'lr': 0.0001, 'use_weighted_loss': True, 'batch_size': 16, 'dropout': 0.2, 'epochs': 250, 'n_outputs': 7, 'n_features': 9, 'lstm_units': 64, 'devices': ['device_1', 'device_2', 'device_3', 'device_4', 'device_5', 'device_6', 'device_7'], 'reg': 0.01}\n",
      "Tmp result:  0.6284437146506112 {'lr': 0.0001, 'use_weighted_loss': True, 'batch_size': 16, 'dropout': 0.2, 'epochs': 250, 'n_outputs': 7, 'n_features': 9, 'lstm_units': 64, 'devices': ['device_1', 'device_2', 'device_3', 'device_4', 'device_5', 'device_6', 'device_7'], 'reg': 0.1}\n",
      "Tmp result:  0.6382275132275129 {'lr': 0.0001, 'use_weighted_loss': True, 'batch_size': 16, 'dropout': 0.2, 'epochs': 250, 'n_outputs': 7, 'n_features': 9, 'lstm_units': 128, 'devices': ['device_1', 'device_2', 'device_3', 'device_4', 'device_5', 'device_6', 'device_7'], 'reg': 0.0}\n",
      "Tmp result:  0.6525725232621787 {'lr': 0.0001, 'use_weighted_loss': True, 'batch_size': 16, 'dropout': 0.2, 'epochs': 250, 'n_outputs': 7, 'n_features': 9, 'lstm_units': 128, 'devices': ['device_1', 'device_2', 'device_3', 'device_4', 'device_5', 'device_6', 'device_7'], 'reg': 0.01}\n"
     ]
    },
    {
     "name": "stdout",
     "output_type": "stream",
     "text": [
      "Tmp result:  0.6470306513409962 {'lr': 0.0001, 'use_weighted_loss': True, 'batch_size': 16, 'dropout': 0.2, 'epochs': 250, 'n_outputs': 7, 'n_features': 9, 'lstm_units': 128, 'devices': ['device_1', 'device_2', 'device_3', 'device_4', 'device_5', 'device_6', 'device_7'], 'reg': 0.1}\n",
      "Tmp result:  0.5475962415617592 {'lr': 0.0001, 'use_weighted_loss': True, 'batch_size': 16, 'dropout': 0.5, 'epochs': 250, 'n_outputs': 7, 'n_features': 9, 'lstm_units': 16, 'devices': ['device_1', 'device_2', 'device_3', 'device_4', 'device_5', 'device_6', 'device_7'], 'reg': 0.0}\n",
      "Tmp result:  0.614395183360701 {'lr': 0.0001, 'use_weighted_loss': True, 'batch_size': 16, 'dropout': 0.5, 'epochs': 250, 'n_outputs': 7, 'n_features': 9, 'lstm_units': 16, 'devices': ['device_1', 'device_2', 'device_3', 'device_4', 'device_5', 'device_6', 'device_7'], 'reg': 0.01}\n",
      "Tmp result:  0.6250456121145779 {'lr': 0.0001, 'use_weighted_loss': True, 'batch_size': 16, 'dropout': 0.5, 'epochs': 250, 'n_outputs': 7, 'n_features': 9, 'lstm_units': 16, 'devices': ['device_1', 'device_2', 'device_3', 'device_4', 'device_5', 'device_6', 'device_7'], 'reg': 0.1}\n",
      "Tmp result:  0.6194353220215295 {'lr': 0.0001, 'use_weighted_loss': True, 'batch_size': 16, 'dropout': 0.5, 'epochs': 250, 'n_outputs': 7, 'n_features': 9, 'lstm_units': 32, 'devices': ['device_1', 'device_2', 'device_3', 'device_4', 'device_5', 'device_6', 'device_7'], 'reg': 0.0}\n",
      "Tmp result:  0.5989554825761728 {'lr': 0.0001, 'use_weighted_loss': True, 'batch_size': 16, 'dropout': 0.5, 'epochs': 250, 'n_outputs': 7, 'n_features': 9, 'lstm_units': 32, 'devices': ['device_1', 'device_2', 'device_3', 'device_4', 'device_5', 'device_6', 'device_7'], 'reg': 0.01}\n",
      "Tmp result:  0.616219667943806 {'lr': 0.0001, 'use_weighted_loss': True, 'batch_size': 16, 'dropout': 0.5, 'epochs': 250, 'n_outputs': 7, 'n_features': 9, 'lstm_units': 32, 'devices': ['device_1', 'device_2', 'device_3', 'device_4', 'device_5', 'device_6', 'device_7'], 'reg': 0.1}\n",
      "Tmp result:  0.6020114942528737 {'lr': 0.0001, 'use_weighted_loss': True, 'batch_size': 16, 'dropout': 0.5, 'epochs': 250, 'n_outputs': 7, 'n_features': 9, 'lstm_units': 64, 'devices': ['device_1', 'device_2', 'device_3', 'device_4', 'device_5', 'device_6', 'device_7'], 'reg': 0.0}\n",
      "Tmp result:  0.6130496259806607 {'lr': 0.0001, 'use_weighted_loss': True, 'batch_size': 16, 'dropout': 0.5, 'epochs': 250, 'n_outputs': 7, 'n_features': 9, 'lstm_units': 64, 'devices': ['device_1', 'device_2', 'device_3', 'device_4', 'device_5', 'device_6', 'device_7'], 'reg': 0.01}\n",
      "Tmp result:  0.6339627805145042 {'lr': 0.0001, 'use_weighted_loss': True, 'batch_size': 16, 'dropout': 0.5, 'epochs': 250, 'n_outputs': 7, 'n_features': 9, 'lstm_units': 64, 'devices': ['device_1', 'device_2', 'device_3', 'device_4', 'device_5', 'device_6', 'device_7'], 'reg': 0.1}\n",
      "Tmp result:  0.6450009122422914 {'lr': 0.0001, 'use_weighted_loss': True, 'batch_size': 16, 'dropout': 0.5, 'epochs': 250, 'n_outputs': 7, 'n_features': 9, 'lstm_units': 128, 'devices': ['device_1', 'device_2', 'device_3', 'device_4', 'device_5', 'device_6', 'device_7'], 'reg': 0.0}\n",
      "Tmp result:  0.6387292464878663 {'lr': 0.0001, 'use_weighted_loss': True, 'batch_size': 16, 'dropout': 0.5, 'epochs': 250, 'n_outputs': 7, 'n_features': 9, 'lstm_units': 128, 'devices': ['device_1', 'device_2', 'device_3', 'device_4', 'device_5', 'device_6', 'device_7'], 'reg': 0.01}\n",
      "Tmp result:  0.6312260536398467 {'lr': 0.0001, 'use_weighted_loss': True, 'batch_size': 16, 'dropout': 0.5, 'epochs': 250, 'n_outputs': 7, 'n_features': 9, 'lstm_units': 128, 'devices': ['device_1', 'device_2', 'device_3', 'device_4', 'device_5', 'device_6', 'device_7'], 'reg': 0.1}\n",
      "Acc: 0.6819011129355954, params: {'lr': 0.001, 'use_weighted_loss': True, 'batch_size': 16, 'dropout': 0.0, 'epochs': 250, 'n_outputs': 7, 'n_features': 9, 'lstm_units': 128, 'devices': ['device_1', 'device_2', 'device_3', 'device_4', 'device_5', 'device_6', 'device_7'], 'reg': 0.01}\n",
      "Acc: 0.6772942893632552, params: {'lr': 0.001, 'use_weighted_loss': True, 'batch_size': 16, 'dropout': 0.2, 'epochs': 250, 'n_outputs': 7, 'n_features': 9, 'lstm_units': 128, 'devices': ['device_1', 'device_2', 'device_3', 'device_4', 'device_5', 'device_6', 'device_7'], 'reg': 0.01}\n",
      "Acc: 0.6766785258164564, params: {'lr': 0.001, 'use_weighted_loss': True, 'batch_size': 16, 'dropout': 0.0, 'epochs': 250, 'n_outputs': 7, 'n_features': 9, 'lstm_units': 128, 'devices': ['device_1', 'device_2', 'device_3', 'device_4', 'device_5', 'device_6', 'device_7'], 'reg': 0.0}\n",
      "Acc: 0.6762680167852585, params: {'lr': 0.001, 'use_weighted_loss': True, 'batch_size': 16, 'dropout': 0.2, 'epochs': 250, 'n_outputs': 7, 'n_features': 9, 'lstm_units': 128, 'devices': ['device_1', 'device_2', 'device_3', 'device_4', 'device_5', 'device_6', 'device_7'], 'reg': 0.1}\n",
      "Acc: 0.6721629264732712, params: {'lr': 0.001, 'use_weighted_loss': True, 'batch_size': 16, 'dropout': 0.5, 'epochs': 250, 'n_outputs': 7, 'n_features': 9, 'lstm_units': 128, 'devices': ['device_1', 'device_2', 'device_3', 'device_4', 'device_5', 'device_6', 'device_7'], 'reg': 0.01}\n",
      "Acc: 0.6702928297755893, params: {'lr': 0.001, 'use_weighted_loss': True, 'batch_size': 16, 'dropout': 0.0, 'epochs': 250, 'n_outputs': 7, 'n_features': 9, 'lstm_units': 64, 'devices': ['device_1', 'device_2', 'device_3', 'device_4', 'device_5', 'device_6', 'device_7'], 'reg': 0.0}\n",
      "Acc: 0.6670087575260001, params: {'lr': 0.001, 'use_weighted_loss': True, 'batch_size': 16, 'dropout': 0.0, 'epochs': 250, 'n_outputs': 7, 'n_features': 9, 'lstm_units': 64, 'devices': ['device_1', 'device_2', 'device_3', 'device_4', 'device_5', 'device_6', 'device_7'], 'reg': 0.01}\n",
      "Acc: 0.666324575807335, params: {'lr': 0.001, 'use_weighted_loss': True, 'batch_size': 16, 'dropout': 0.5, 'epochs': 250, 'n_outputs': 7, 'n_features': 9, 'lstm_units': 128, 'devices': ['device_1', 'device_2', 'device_3', 'device_4', 'device_5', 'device_6', 'device_7'], 'reg': 0.0}\n",
      "Acc: 0.6646141215106731, params: {'lr': 0.001, 'use_weighted_loss': True, 'batch_size': 16, 'dropout': 0.0, 'epochs': 250, 'n_outputs': 7, 'n_features': 9, 'lstm_units': 128, 'devices': ['device_1', 'device_2', 'device_3', 'device_4', 'device_5', 'device_6', 'device_7'], 'reg': 0.1}\n",
      "Acc: 0.662721218755703, params: {'lr': 0.001, 'use_weighted_loss': True, 'batch_size': 16, 'dropout': 0.2, 'epochs': 250, 'n_outputs': 7, 'n_features': 9, 'lstm_units': 128, 'devices': ['device_1', 'device_2', 'device_3', 'device_4', 'device_5', 'device_6', 'device_7'], 'reg': 0.0}\n",
      "Acc: 0.6614896916621068, params: {'lr': 0.001, 'use_weighted_loss': True, 'batch_size': 16, 'dropout': 0.5, 'epochs': 250, 'n_outputs': 7, 'n_features': 9, 'lstm_units': 64, 'devices': ['device_1', 'device_2', 'device_3', 'device_4', 'device_5', 'device_6', 'device_7'], 'reg': 0.0}\n",
      "Acc: 0.6607598978288644, params: {'lr': 0.001, 'use_weighted_loss': True, 'batch_size': 16, 'dropout': 0.0, 'epochs': 250, 'n_outputs': 7, 'n_features': 9, 'lstm_units': 32, 'devices': ['device_1', 'device_2', 'device_3', 'device_4', 'device_5', 'device_6', 'device_7'], 'reg': 0.0}\n",
      "Acc: 0.6589126071884699, params: {'lr': 0.001, 'use_weighted_loss': True, 'batch_size': 16, 'dropout': 0.2, 'epochs': 250, 'n_outputs': 7, 'n_features': 9, 'lstm_units': 64, 'devices': ['device_1', 'device_2', 'device_3', 'device_4', 'device_5', 'device_6', 'device_7'], 'reg': 0.01}\n",
      "Acc: 0.6566548075168765, params: {'lr': 0.001, 'use_weighted_loss': True, 'batch_size': 16, 'dropout': 0.2, 'epochs': 250, 'n_outputs': 7, 'n_features': 9, 'lstm_units': 64, 'devices': ['device_1', 'device_2', 'device_3', 'device_4', 'device_5', 'device_6', 'device_7'], 'reg': 0.1}\n",
      "Acc: 0.6561302681992338, params: {'lr': 0.001, 'use_weighted_loss': True, 'batch_size': 16, 'dropout': 0.2, 'epochs': 250, 'n_outputs': 7, 'n_features': 9, 'lstm_units': 32, 'devices': ['device_1', 'device_2', 'device_3', 'device_4', 'device_5', 'device_6', 'device_7'], 'reg': 0.1}\n",
      "Acc: 0.6560618500273682, params: {'lr': 0.001, 'use_weighted_loss': True, 'batch_size': 16, 'dropout': 0.2, 'epochs': 250, 'n_outputs': 7, 'n_features': 9, 'lstm_units': 64, 'devices': ['device_1', 'device_2', 'device_3', 'device_4', 'device_5', 'device_6', 'device_7'], 'reg': 0.0}\n",
      "Acc: 0.6525725232621787, params: {'lr': 0.0001, 'use_weighted_loss': True, 'batch_size': 16, 'dropout': 0.2, 'epochs': 250, 'n_outputs': 7, 'n_features': 9, 'lstm_units': 128, 'devices': ['device_1', 'device_2', 'device_3', 'device_4', 'device_5', 'device_6', 'device_7'], 'reg': 0.01}\n",
      "Acc: 0.6519339536580927, params: {'lr': 0.001, 'use_weighted_loss': True, 'batch_size': 16, 'dropout': 0.0, 'epochs': 250, 'n_outputs': 7, 'n_features': 9, 'lstm_units': 32, 'devices': ['device_1', 'device_2', 'device_3', 'device_4', 'device_5', 'device_6', 'device_7'], 'reg': 0.01}\n",
      "Acc: 0.6496533479292099, params: {'lr': 0.0001, 'use_weighted_loss': True, 'batch_size': 16, 'dropout': 0.0, 'epochs': 250, 'n_outputs': 7, 'n_features': 9, 'lstm_units': 128, 'devices': ['device_1', 'device_2', 'device_3', 'device_4', 'device_5', 'device_6', 'device_7'], 'reg': 0.01}\n",
      "Acc: 0.6485358511220587, params: {'lr': 0.001, 'use_weighted_loss': True, 'batch_size': 16, 'dropout': 0.0, 'epochs': 250, 'n_outputs': 7, 'n_features': 9, 'lstm_units': 64, 'devices': ['device_1', 'device_2', 'device_3', 'device_4', 'device_5', 'device_6', 'device_7'], 'reg': 0.1}\n",
      "Acc: 0.6470762634555747, params: {'lr': 0.001, 'use_weighted_loss': True, 'batch_size': 16, 'dropout': 0.5, 'epochs': 250, 'n_outputs': 7, 'n_features': 9, 'lstm_units': 64, 'devices': ['device_1', 'device_2', 'device_3', 'device_4', 'device_5', 'device_6', 'device_7'], 'reg': 0.1}\n",
      "Acc: 0.6470306513409962, params: {'lr': 0.0001, 'use_weighted_loss': True, 'batch_size': 16, 'dropout': 0.2, 'epochs': 250, 'n_outputs': 7, 'n_features': 9, 'lstm_units': 128, 'devices': ['device_1', 'device_2', 'device_3', 'device_4', 'device_5', 'device_6', 'device_7'], 'reg': 0.1}\n",
      "Acc: 0.646323663565043, params: {'lr': 0.001, 'use_weighted_loss': True, 'batch_size': 16, 'dropout': 0.5, 'epochs': 250, 'n_outputs': 7, 'n_features': 9, 'lstm_units': 128, 'devices': ['device_1', 'device_2', 'device_3', 'device_4', 'device_5', 'device_6', 'device_7'], 'reg': 0.1}\n",
      "Acc: 0.6450009122422914, params: {'lr': 0.0001, 'use_weighted_loss': True, 'batch_size': 16, 'dropout': 0.5, 'epochs': 250, 'n_outputs': 7, 'n_features': 9, 'lstm_units': 128, 'devices': ['device_1', 'device_2', 'device_3', 'device_4', 'device_5', 'device_6', 'device_7'], 'reg': 0.0}\n",
      "Acc: 0.6448640758985581, params: {'lr': 0.001, 'use_weighted_loss': True, 'batch_size': 16, 'dropout': 0.5, 'epochs': 250, 'n_outputs': 7, 'n_features': 9, 'lstm_units': 64, 'devices': ['device_1', 'device_2', 'device_3', 'device_4', 'device_5', 'device_6', 'device_7'], 'reg': 0.01}\n",
      "Acc: 0.6420361247947454, params: {'lr': 0.0001, 'use_weighted_loss': True, 'batch_size': 16, 'dropout': 0.0, 'epochs': 250, 'n_outputs': 7, 'n_features': 9, 'lstm_units': 64, 'devices': ['device_1', 'device_2', 'device_3', 'device_4', 'device_5', 'device_6', 'device_7'], 'reg': 0.01}\n",
      "Acc: 0.6419449005655912, params: {'lr': 0.001, 'use_weighted_loss': True, 'batch_size': 16, 'dropout': 0.2, 'epochs': 250, 'n_outputs': 7, 'n_features': 9, 'lstm_units': 32, 'devices': ['device_1', 'device_2', 'device_3', 'device_4', 'device_5', 'device_6', 'device_7'], 'reg': 0.01}\n",
      "Acc: 0.6387292464878663, params: {'lr': 0.0001, 'use_weighted_loss': True, 'batch_size': 16, 'dropout': 0.5, 'epochs': 250, 'n_outputs': 7, 'n_features': 9, 'lstm_units': 128, 'devices': ['device_1', 'device_2', 'device_3', 'device_4', 'device_5', 'device_6', 'device_7'], 'reg': 0.01}\n",
      "Acc: 0.6383187374566681, params: {'lr': 0.0001, 'use_weighted_loss': True, 'batch_size': 16, 'dropout': 0.0, 'epochs': 250, 'n_outputs': 7, 'n_features': 9, 'lstm_units': 16, 'devices': ['device_1', 'device_2', 'device_3', 'device_4', 'device_5', 'device_6', 'device_7'], 'reg': 0.1}\n",
      "Acc: 0.6382275132275129, params: {'lr': 0.0001, 'use_weighted_loss': True, 'batch_size': 16, 'dropout': 0.2, 'epochs': 250, 'n_outputs': 7, 'n_features': 9, 'lstm_units': 128, 'devices': ['device_1', 'device_2', 'device_3', 'device_4', 'device_5', 'device_6', 'device_7'], 'reg': 0.0}\n",
      "Acc: 0.6368363437328957, params: {'lr': 0.001, 'use_weighted_loss': True, 'batch_size': 16, 'dropout': 0.0, 'epochs': 250, 'n_outputs': 7, 'n_features': 9, 'lstm_units': 16, 'devices': ['device_1', 'device_2', 'device_3', 'device_4', 'device_5', 'device_6', 'device_7'], 'reg': 0.1}\n",
      "Acc: 0.635627622696588, params: {'lr': 0.0001, 'use_weighted_loss': True, 'batch_size': 16, 'dropout': 0.0, 'epochs': 250, 'n_outputs': 7, 'n_features': 9, 'lstm_units': 32, 'devices': ['device_1', 'device_2', 'device_3', 'device_4', 'device_5', 'device_6', 'device_7'], 'reg': 0.1}\n",
      "Acc: 0.6355820105820102, params: {'lr': 0.0001, 'use_weighted_loss': True, 'batch_size': 16, 'dropout': 0.0, 'epochs': 250, 'n_outputs': 7, 'n_features': 9, 'lstm_units': 128, 'devices': ['device_1', 'device_2', 'device_3', 'device_4', 'device_5', 'device_6', 'device_7'], 'reg': 0.0}\n",
      "Acc: 0.6339627805145042, params: {'lr': 0.0001, 'use_weighted_loss': True, 'batch_size': 16, 'dropout': 0.5, 'epochs': 250, 'n_outputs': 7, 'n_features': 9, 'lstm_units': 64, 'devices': ['device_1', 'device_2', 'device_3', 'device_4', 'device_5', 'device_6', 'device_7'], 'reg': 0.1}\n",
      "Acc: 0.63211548987411, params: {'lr': 0.0001, 'use_weighted_loss': True, 'batch_size': 16, 'dropout': 0.2, 'epochs': 250, 'n_outputs': 7, 'n_features': 9, 'lstm_units': 64, 'devices': ['device_1', 'device_2', 'device_3', 'device_4', 'device_5', 'device_6', 'device_7'], 'reg': 0.01}\n",
      "Acc: 0.6320470717022443, params: {'lr': 0.001, 'use_weighted_loss': True, 'batch_size': 16, 'dropout': 0.2, 'epochs': 250, 'n_outputs': 7, 'n_features': 9, 'lstm_units': 32, 'devices': ['device_1', 'device_2', 'device_3', 'device_4', 'device_5', 'device_6', 'device_7'], 'reg': 0.0}\n",
      "Acc: 0.6312260536398467, params: {'lr': 0.0001, 'use_weighted_loss': True, 'batch_size': 16, 'dropout': 0.5, 'epochs': 250, 'n_outputs': 7, 'n_features': 9, 'lstm_units': 128, 'devices': ['device_1', 'device_2', 'device_3', 'device_4', 'device_5', 'device_6', 'device_7'], 'reg': 0.1}\n",
      "Acc: 0.6309295748950916, params: {'lr': 0.0001, 'use_weighted_loss': True, 'batch_size': 16, 'dropout': 0.0, 'epochs': 250, 'n_outputs': 7, 'n_features': 9, 'lstm_units': 128, 'devices': ['device_1', 'device_2', 'device_3', 'device_4', 'device_5', 'device_6', 'device_7'], 'reg': 0.1}\n",
      "Acc: 0.6306787082649146, params: {'lr': 0.001, 'use_weighted_loss': True, 'batch_size': 16, 'dropout': 0.0, 'epochs': 250, 'n_outputs': 7, 'n_features': 9, 'lstm_units': 32, 'devices': ['device_1', 'device_2', 'device_3', 'device_4', 'device_5', 'device_6', 'device_7'], 'reg': 0.1}\n",
      "Acc: 0.630085750775406, params: {'lr': 0.001, 'use_weighted_loss': True, 'batch_size': 16, 'dropout': 0.5, 'epochs': 250, 'n_outputs': 7, 'n_features': 9, 'lstm_units': 32, 'devices': ['device_1', 'device_2', 'device_3', 'device_4', 'device_5', 'device_6', 'device_7'], 'reg': 0.0}\n",
      "Acc: 0.6294015690567415, params: {'lr': 0.0001, 'use_weighted_loss': True, 'batch_size': 16, 'dropout': 0.0, 'epochs': 250, 'n_outputs': 7, 'n_features': 9, 'lstm_units': 64, 'devices': ['device_1', 'device_2', 'device_3', 'device_4', 'device_5', 'device_6', 'device_7'], 'reg': 0.0}\n",
      "Acc: 0.6288770297390983, params: {'lr': 0.001, 'use_weighted_loss': True, 'batch_size': 16, 'dropout': 0.5, 'epochs': 250, 'n_outputs': 7, 'n_features': 9, 'lstm_units': 32, 'devices': ['device_1', 'device_2', 'device_3', 'device_4', 'device_5', 'device_6', 'device_7'], 'reg': 0.1}\n",
      "Acc: 0.6284437146506112, params: {'lr': 0.0001, 'use_weighted_loss': True, 'batch_size': 16, 'dropout': 0.2, 'epochs': 250, 'n_outputs': 7, 'n_features': 9, 'lstm_units': 64, 'devices': ['device_1', 'device_2', 'device_3', 'device_4', 'device_5', 'device_6', 'device_7'], 'reg': 0.1}\n",
      "Acc: 0.6275998905309251, params: {'lr': 0.0001, 'use_weighted_loss': True, 'batch_size': 16, 'dropout': 0.0, 'epochs': 250, 'n_outputs': 7, 'n_features': 9, 'lstm_units': 64, 'devices': ['device_1', 'device_2', 'device_3', 'device_4', 'device_5', 'device_6', 'device_7'], 'reg': 0.1}\n",
      "Acc: 0.6268016785258161, params: {'lr': 0.001, 'use_weighted_loss': True, 'batch_size': 16, 'dropout': 0.2, 'epochs': 250, 'n_outputs': 7, 'n_features': 9, 'lstm_units': 16, 'devices': ['device_1', 'device_2', 'device_3', 'device_4', 'device_5', 'device_6', 'device_7'], 'reg': 0.1}\n",
      "Acc: 0.6267560664112389, params: {'lr': 0.001, 'use_weighted_loss': True, 'batch_size': 16, 'dropout': 0.0, 'epochs': 250, 'n_outputs': 7, 'n_features': 9, 'lstm_units': 16, 'devices': ['device_1', 'device_2', 'device_3', 'device_4', 'device_5', 'device_6', 'device_7'], 'reg': 0.01}\n",
      "Acc: 0.6257297938332418, params: {'lr': 0.0001, 'use_weighted_loss': True, 'batch_size': 16, 'dropout': 0.2, 'epochs': 250, 'n_outputs': 7, 'n_features': 9, 'lstm_units': 16, 'devices': ['device_1', 'device_2', 'device_3', 'device_4', 'device_5', 'device_6', 'device_7'], 'reg': 0.1}\n",
      "Acc: 0.6250456121145779, params: {'lr': 0.0001, 'use_weighted_loss': True, 'batch_size': 16, 'dropout': 0.5, 'epochs': 250, 'n_outputs': 7, 'n_features': 9, 'lstm_units': 16, 'devices': ['device_1', 'device_2', 'device_3', 'device_4', 'device_5', 'device_6', 'device_7'], 'reg': 0.1}\n",
      "Acc: 0.624977193942712, params: {'lr': 0.0001, 'use_weighted_loss': True, 'batch_size': 16, 'dropout': 0.2, 'epochs': 250, 'n_outputs': 7, 'n_features': 9, 'lstm_units': 64, 'devices': ['device_1', 'device_2', 'device_3', 'device_4', 'device_5', 'device_6', 'device_7'], 'reg': 0.0}\n",
      "Acc: 0.6243158182813346, params: {'lr': 0.001, 'use_weighted_loss': True, 'batch_size': 16, 'dropout': 0.5, 'epochs': 250, 'n_outputs': 7, 'n_features': 9, 'lstm_units': 32, 'devices': ['device_1', 'device_2', 'device_3', 'device_4', 'device_5', 'device_6', 'device_7'], 'reg': 0.01}\n",
      "Acc: 0.6223088852399198, params: {'lr': 0.0001, 'use_weighted_loss': True, 'batch_size': 16, 'dropout': 0.2, 'epochs': 250, 'n_outputs': 7, 'n_features': 9, 'lstm_units': 32, 'devices': ['device_1', 'device_2', 'device_3', 'device_4', 'device_5', 'device_6', 'device_7'], 'reg': 0.1}\n",
      "Acc: 0.6202791461412148, params: {'lr': 0.001, 'use_weighted_loss': True, 'batch_size': 16, 'dropout': 0.5, 'epochs': 250, 'n_outputs': 7, 'n_features': 9, 'lstm_units': 16, 'devices': ['device_1', 'device_2', 'device_3', 'device_4', 'device_5', 'device_6', 'device_7'], 'reg': 0.01}\n",
      "Acc: 0.6199142492245947, params: {'lr': 0.001, 'use_weighted_loss': True, 'batch_size': 16, 'dropout': 0.0, 'epochs': 250, 'n_outputs': 7, 'n_features': 9, 'lstm_units': 16, 'devices': ['device_1', 'device_2', 'device_3', 'device_4', 'device_5', 'device_6', 'device_7'], 'reg': 0.0}\n",
      "Acc: 0.6194353220215295, params: {'lr': 0.0001, 'use_weighted_loss': True, 'batch_size': 16, 'dropout': 0.5, 'epochs': 250, 'n_outputs': 7, 'n_features': 9, 'lstm_units': 32, 'devices': ['device_1', 'device_2', 'device_3', 'device_4', 'device_5', 'device_6', 'device_7'], 'reg': 0.0}\n",
      "Acc: 0.6174740010946913, params: {'lr': 0.0001, 'use_weighted_loss': True, 'batch_size': 16, 'dropout': 0.0, 'epochs': 250, 'n_outputs': 7, 'n_features': 9, 'lstm_units': 32, 'devices': ['device_1', 'device_2', 'device_3', 'device_4', 'device_5', 'device_6', 'device_7'], 'reg': 0.01}\n",
      "Acc: 0.6165389527458498, params: {'lr': 0.0001, 'use_weighted_loss': True, 'batch_size': 16, 'dropout': 0.0, 'epochs': 250, 'n_outputs': 7, 'n_features': 9, 'lstm_units': 32, 'devices': ['device_1', 'device_2', 'device_3', 'device_4', 'device_5', 'device_6', 'device_7'], 'reg': 0.0}\n",
      "Acc: 0.6165389527458491, params: {'lr': 0.0001, 'use_weighted_loss': True, 'batch_size': 16, 'dropout': 0.0, 'epochs': 250, 'n_outputs': 7, 'n_features': 9, 'lstm_units': 16, 'devices': ['device_1', 'device_2', 'device_3', 'device_4', 'device_5', 'device_6', 'device_7'], 'reg': 0.01}\n",
      "Acc: 0.616219667943806, params: {'lr': 0.0001, 'use_weighted_loss': True, 'batch_size': 16, 'dropout': 0.5, 'epochs': 250, 'n_outputs': 7, 'n_features': 9, 'lstm_units': 32, 'devices': ['device_1', 'device_2', 'device_3', 'device_4', 'device_5', 'device_6', 'device_7'], 'reg': 0.1}\n",
      "Acc: 0.614395183360701, params: {'lr': 0.0001, 'use_weighted_loss': True, 'batch_size': 16, 'dropout': 0.5, 'epochs': 250, 'n_outputs': 7, 'n_features': 9, 'lstm_units': 16, 'devices': ['device_1', 'device_2', 'device_3', 'device_4', 'device_5', 'device_6', 'device_7'], 'reg': 0.01}\n",
      "Acc: 0.6130496259806607, params: {'lr': 0.0001, 'use_weighted_loss': True, 'batch_size': 16, 'dropout': 0.5, 'epochs': 250, 'n_outputs': 7, 'n_features': 9, 'lstm_units': 64, 'devices': ['device_1', 'device_2', 'device_3', 'device_4', 'device_5', 'device_6', 'device_7'], 'reg': 0.01}\n",
      "Acc: 0.6123198321474179, params: {'lr': 0.001, 'use_weighted_loss': True, 'batch_size': 16, 'dropout': 0.5, 'epochs': 250, 'n_outputs': 7, 'n_features': 9, 'lstm_units': 16, 'devices': ['device_1', 'device_2', 'device_3', 'device_4', 'device_5', 'device_6', 'device_7'], 'reg': 0.1}\n",
      "Acc: 0.6100620324758265, params: {'lr': 0.001, 'use_weighted_loss': True, 'batch_size': 16, 'dropout': 0.5, 'epochs': 250, 'n_outputs': 7, 'n_features': 9, 'lstm_units': 16, 'devices': ['device_1', 'device_2', 'device_3', 'device_4', 'device_5', 'device_6', 'device_7'], 'reg': 0.0}\n",
      "Acc: 0.6039728151797121, params: {'lr': 0.001, 'use_weighted_loss': True, 'batch_size': 16, 'dropout': 0.2, 'epochs': 250, 'n_outputs': 7, 'n_features': 9, 'lstm_units': 16, 'devices': ['device_1', 'device_2', 'device_3', 'device_4', 'device_5', 'device_6', 'device_7'], 'reg': 0.01}\n",
      "Acc: 0.6036307243203793, params: {'lr': 0.0001, 'use_weighted_loss': True, 'batch_size': 16, 'dropout': 0.2, 'epochs': 250, 'n_outputs': 7, 'n_features': 9, 'lstm_units': 32, 'devices': ['device_1', 'device_2', 'device_3', 'device_4', 'device_5', 'device_6', 'device_7'], 'reg': 0.01}\n",
      "Acc: 0.6020114942528737, params: {'lr': 0.0001, 'use_weighted_loss': True, 'batch_size': 16, 'dropout': 0.5, 'epochs': 250, 'n_outputs': 7, 'n_features': 9, 'lstm_units': 64, 'devices': ['device_1', 'device_2', 'device_3', 'device_4', 'device_5', 'device_6', 'device_7'], 'reg': 0.0}\n",
      "Acc: 0.5989554825761728, params: {'lr': 0.0001, 'use_weighted_loss': True, 'batch_size': 16, 'dropout': 0.5, 'epochs': 250, 'n_outputs': 7, 'n_features': 9, 'lstm_units': 32, 'devices': ['device_1', 'device_2', 'device_3', 'device_4', 'device_5', 'device_6', 'device_7'], 'reg': 0.01}\n",
      "Acc: 0.5903347929210001, params: {'lr': 0.0001, 'use_weighted_loss': True, 'batch_size': 16, 'dropout': 0.2, 'epochs': 250, 'n_outputs': 7, 'n_features': 9, 'lstm_units': 16, 'devices': ['device_1', 'device_2', 'device_3', 'device_4', 'device_5', 'device_6', 'device_7'], 'reg': 0.01}\n",
      "Acc: 0.5871875570151437, params: {'lr': 0.0001, 'use_weighted_loss': True, 'batch_size': 16, 'dropout': 0.2, 'epochs': 250, 'n_outputs': 7, 'n_features': 9, 'lstm_units': 32, 'devices': ['device_1', 'device_2', 'device_3', 'device_4', 'device_5', 'device_6', 'device_7'], 'reg': 0.0}\n",
      "Acc: 0.5795475278233897, params: {'lr': 0.0001, 'use_weighted_loss': True, 'batch_size': 16, 'dropout': 0.0, 'epochs': 250, 'n_outputs': 7, 'n_features': 9, 'lstm_units': 16, 'devices': ['device_1', 'device_2', 'device_3', 'device_4', 'device_5', 'device_6', 'device_7'], 'reg': 0.0}\n",
      "Acc: 0.5743249407042517, params: {'lr': 0.001, 'use_weighted_loss': True, 'batch_size': 16, 'dropout': 0.2, 'epochs': 250, 'n_outputs': 7, 'n_features': 9, 'lstm_units': 16, 'devices': ['device_1', 'device_2', 'device_3', 'device_4', 'device_5', 'device_6', 'device_7'], 'reg': 0.0}\n",
      "Acc: 0.5644271118409053, params: {'lr': 0.0001, 'use_weighted_loss': True, 'batch_size': 16, 'dropout': 0.2, 'epochs': 250, 'n_outputs': 7, 'n_features': 9, 'lstm_units': 16, 'devices': ['device_1', 'device_2', 'device_3', 'device_4', 'device_5', 'device_6', 'device_7'], 'reg': 0.0}\n",
      "Acc: 0.5475962415617592, params: {'lr': 0.0001, 'use_weighted_loss': True, 'batch_size': 16, 'dropout': 0.5, 'epochs': 250, 'n_outputs': 7, 'n_features': 9, 'lstm_units': 16, 'devices': ['device_1', 'device_2', 'device_3', 'device_4', 'device_5', 'device_6', 'device_7'], 'reg': 0.0}\n"
     ]
    }
   ],
   "source": [
    "gs_results = []\n",
    "for lr in [1e-3, 1e-4, 1e-5]:\n",
    "    for do in [0.0, 0.2, 0.5]:\n",
    "        for units in [16, 32, 64, 128, 256, 512]:\n",
    "            for reg in [0.0, 0.01, 0.1]:\n",
    "                for n_epochs in [250]:\n",
    "                    K.clear_session()\n",
    "                    tmp_params = {'lr': lr, \n",
    "                                   'use_weighted_loss': USE_WEIGHTED_LOSS,\n",
    "                                   'batch_size': BATCH_SIZE,\n",
    "                                   'dropout': do,\n",
    "                                   'epochs': n_epochs,\n",
    "                                   'n_outputs': len(device_list),\n",
    "                                   'n_features': feature_batch.shape[-1],\n",
    "                                   'lstm_units': units,\n",
    "                                   'devices': device_list,\n",
    "                                   'reg': reg}\n",
    "                    model, val_acc = eval_model_params(tmp_params, feature_batch, label_batch, val_features, val_labels)\n",
    "                    gs_results += [(val_acc, tmp_params)]\n",
    "                    print(\"Tmp result: \", val_acc, tmp_params)\n",
    "                \n",
    "for x in sorted(gs_results, key=lambda x: x[0], reverse=True):\n",
    "    print(\"Acc: {0}, params: {1}\".format(x[0], x[1]))"
   ]
  },
  {
   "cell_type": "code",
   "execution_count": 113,
   "metadata": {},
   "outputs": [
    {
     "name": "stdout",
     "output_type": "stream",
     "text": [
      "Val acc for model 0.6841133004926107\n"
     ]
    }
   ],
   "source": [
    "#Acc: 0.6819011129355954, params: {'lr': 0.001, 'use_weighted_loss': True, 'batch_size': 16, 'dropout': 0.0, 'epochs': 250, 'n_outputs': 7, 'n_features': 9, 'lstm_units': 128, 'devices': ['device_1', 'device_2', 'device_3', 'device_4', 'device_5', 'device_6', 'device_7'], 'reg': 0.01}\n",
    "\n",
    "best_params = {'lr': 0.001, \n",
    "               'use_weighted_loss': True,\n",
    "               'batch_size': BATCH_SIZE,\n",
    "               'dropout': 0.0,\n",
    "               'epochs': 250,\n",
    "               'n_outputs': len(device_list),\n",
    "               'n_features': feature_batch.shape[-1],\n",
    "               'lstm_units': 512,\n",
    "               'devices': device_list,\n",
    "               'reg': 0.01}\n",
    "\n",
    "model, val_acc = eval_model_params(best_params, feature_batch, label_batch, val_features, val_labels)\n",
    "print(\"Val acc for model\", val_acc)"
   ]
  },
  {
   "cell_type": "code",
   "execution_count": 115,
   "metadata": {},
   "outputs": [
    {
     "name": "stdout",
     "output_type": "stream",
     "text": [
      "Val acc:  0.6841133004926107\n",
      "Test acc:  0.6369447107702141\n"
     ]
    }
   ],
   "source": [
    "val_acc = calc_accuracy(model, best_params, val_features, val_labels)\n",
    "print(\"Val acc: \", val_acc)\n",
    "test_acc = calc_accuracy(model, best_params, test_features, test_labels)\n",
    "print(\"Test acc: \", test_acc)"
   ]
  },
  {
   "cell_type": "code",
   "execution_count": 13,
   "metadata": {},
   "outputs": [
    {
     "ename": "NameError",
     "evalue": "name 'test_feature_batch_expanded' is not defined",
     "output_type": "error",
     "traceback": [
      "\u001b[0;31m---------------------------------------------------------------------------\u001b[0m",
      "\u001b[0;31mNameError\u001b[0m                                 Traceback (most recent call last)",
      "\u001b[0;32m<ipython-input-13-5a806bed8b89>\u001b[0m in \u001b[0;36m<module>\u001b[0;34m\u001b[0m\n\u001b[1;32m      1\u001b[0m \u001b[0mmodel\u001b[0m\u001b[0;34m.\u001b[0m\u001b[0mreset_states\u001b[0m\u001b[0;34m(\u001b[0m\u001b[0;34m)\u001b[0m\u001b[0;34m\u001b[0m\u001b[0m\n\u001b[0;32m----> 2\u001b[0;31m \u001b[0mprint\u001b[0m\u001b[0;34m(\u001b[0m\u001b[0mtest_feature_batch_expanded\u001b[0m\u001b[0;34m.\u001b[0m\u001b[0mshape\u001b[0m\u001b[0;34m)\u001b[0m\u001b[0;34m\u001b[0m\u001b[0m\n\u001b[0m\u001b[1;32m      3\u001b[0m \u001b[0;34m\u001b[0m\u001b[0m\n\u001b[1;32m      4\u001b[0m \u001b[0mpredictions\u001b[0m \u001b[0;34m=\u001b[0m \u001b[0mmodel\u001b[0m\u001b[0;34m.\u001b[0m\u001b[0mpredict\u001b[0m\u001b[0;34m(\u001b[0m\u001b[0mtest_feature_batch_expanded\u001b[0m\u001b[0;34m,\u001b[0m \u001b[0mbatch_size\u001b[0m\u001b[0;34m=\u001b[0m\u001b[0mBATCH_SIZE\u001b[0m\u001b[0;34m)\u001b[0m\u001b[0;34m\u001b[0m\u001b[0m\n\u001b[1;32m      5\u001b[0m \u001b[0mpredictions\u001b[0m \u001b[0;34m=\u001b[0m \u001b[0mnp\u001b[0m\u001b[0;34m.\u001b[0m\u001b[0msqueeze\u001b[0m\u001b[0;34m(\u001b[0m\u001b[0mpredictions\u001b[0m\u001b[0;34m)\u001b[0m\u001b[0;34m\u001b[0m\u001b[0m\n",
      "\u001b[0;31mNameError\u001b[0m: name 'test_feature_batch_expanded' is not defined"
     ]
    }
   ],
   "source": [
    "model.reset_states()\n",
    "print(test_feature_batch_expanded.shape)\n",
    "\n",
    "predictions = model.predict(test_feature_batch_expanded, batch_size=BATCH_SIZE)\n",
    "predictions = np.squeeze(predictions)\n",
    "\n",
    "print(predictions.shape)\n",
    "print(test_label_batch_flattened.shape)\n",
    "\n",
    "print(np.round(predictions)[:-24])\n",
    "print(test_label_batch_flattened[:-24])"
   ]
  },
  {
   "cell_type": "code",
   "execution_count": null,
   "metadata": {},
   "outputs": [],
   "source": [
    "print(\"Val accuracy: \", np.sum(np.round(predictions) == test_label_batch_flattened) / predictions.size) \n",
    "print(\"Val accuracy per device:: \", np.sum(np.round(predictions) == test_label_batch_flattened, axis=0) / predictions.shape[0]) \n",
    "\n",
    "print(\"% of 1 prediction outputs\", np.sum(np.round(predictions)) / predictions.size) \n",
    "print(\"% of 1 label outputs\", np.sum(np.round(test_label_batch_flattened)) / test_label_batch_flattened.size)"
   ]
  },
  {
   "cell_type": "code",
   "execution_count": null,
   "metadata": {},
   "outputs": [],
   "source": [
    "model.save('model.h5')\n",
    "import json\n",
    "\n",
    "with open('params.json', 'w', encoding='utf-8') as fp:\n",
    "    json.dump(training_params, fp)"
   ]
  },
  {
   "cell_type": "code",
   "execution_count": null,
   "metadata": {},
   "outputs": [],
   "source": []
  }
 ],
 "metadata": {
  "kernelspec": {
   "display_name": "Python 3",
   "language": "python",
   "name": "python3"
  },
  "language_info": {
   "codemirror_mode": {
    "name": "ipython",
    "version": 3
   },
   "file_extension": ".py",
   "mimetype": "text/x-python",
   "name": "python",
   "nbconvert_exporter": "python",
   "pygments_lexer": "ipython3",
   "version": "3.6.5"
  }
 },
 "nbformat": 4,
 "nbformat_minor": 2
}
